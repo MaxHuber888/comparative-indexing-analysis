{
 "cells": [
  {
   "cell_type": "markdown",
   "source": [
    "### Define Data Path"
   ],
   "metadata": {
    "collapsed": false
   },
   "id": "51f818ae127141dd"
  },
  {
   "cell_type": "code",
   "outputs": [],
   "source": [
    "doc_path = \"data/Wikipedia/\""
   ],
   "metadata": {
    "collapsed": false
   },
   "id": "1c35471b5a696db3",
   "execution_count": null
  },
  {
   "cell_type": "markdown",
   "source": [
    "### Chunk Model (LlamaIndex)"
   ],
   "metadata": {
    "collapsed": false
   },
   "id": "2c593916f9cd4c6b"
  },
  {
   "cell_type": "code",
   "outputs": [],
   "source": [
    "from models.chunk_model import ChunkModel\n",
    "\n",
    "# Initialize model\n",
    "ch_model = ChunkModel()"
   ],
   "metadata": {
    "collapsed": false
   },
   "id": "3e5f6902b7ed2e0",
   "execution_count": null
  },
  {
   "cell_type": "code",
   "outputs": [],
   "source": [
    "# Generate Index\n",
    "#ch_model.generate_index(doc_path)\n",
    "# Save Index\n",
    "#ch_model.save_index(\"test\")"
   ],
   "metadata": {
    "collapsed": false
   },
   "id": "1aa03fbf796bb8b5",
   "execution_count": null
  },
  {
   "cell_type": "code",
   "outputs": [],
   "source": [
    "# Query the Model\n",
    "ch_model.load_index(\"test\")\n",
    "print(ch_model.query(\"we begin by determining the wold decomposition of the isometries @xmath31\"))"
   ],
   "metadata": {
    "collapsed": false
   },
   "id": "67eaf856f873d66d",
   "execution_count": null
  },
  {
   "cell_type": "markdown",
   "source": [
    "### Net Fit Model (CUSTOM)"
   ],
   "metadata": {
    "collapsed": false
   },
   "id": "1cda5c0ea2fad914"
  },
  {
   "cell_type": "code",
   "outputs": [],
   "source": [
    "from models.net_fit_model import NetFitModel\n",
    "\n",
    "# Initialize model\n",
    "nf_model = NetFitModel()"
   ],
   "metadata": {
    "collapsed": true
   },
   "id": "initial_id",
   "execution_count": null
  },
  {
   "cell_type": "code",
   "outputs": [],
   "source": [
    "# Generate Index\n",
    "#nf_model.generate_index(doc_path)\n",
    "# Save Index\n",
    "#nf_model.save_index(\"test\")"
   ],
   "metadata": {
    "collapsed": false
   },
   "id": "954c7691bb01c470",
   "execution_count": null
  },
  {
   "cell_type": "code",
   "outputs": [],
   "source": [
    "# (OPTIONAL) Train the model more\n",
    "nf_model.train_model()\n",
    "nf_model.save_index(\"test\")"
   ],
   "metadata": {
    "collapsed": false
   },
   "id": "d9482a9dec072260",
   "execution_count": null
  },
  {
   "cell_type": "code",
   "outputs": [],
   "source": [
    "# Query the Model\n",
    "nf_model.load_index(\"test\")\n",
    "nf_model.query(\"we begin by determining the wold decomposition of the isometries @xmath31\")"
   ],
   "metadata": {
    "collapsed": false
   },
   "id": "1e15f0bace9988bd",
   "execution_count": null
  },
  {
   "cell_type": "markdown",
   "source": [
    "### Chunk Slide Model (CUSTOM)"
   ],
   "metadata": {
    "collapsed": false
   },
   "id": "f8de3181a2a38cf9"
  },
  {
   "cell_type": "code",
   "outputs": [],
   "source": [
    "from models.chunk_slide_model import ChunkSlideModel\n",
    "\n",
    "# Initialize model\n",
    "cs_model = ChunkSlideModel()"
   ],
   "metadata": {
    "collapsed": false
   },
   "id": "88ba77ba6aa4fcc1",
   "execution_count": null
  },
  {
   "cell_type": "code",
   "outputs": [],
   "source": [
    "# Generate Index\n",
    "#cs_model.generate_index(doc_path)\n",
    "# Save Index\n",
    "#cs_model.save_index(\"test\")"
   ],
   "metadata": {
    "collapsed": false
   },
   "id": "8a6d1c14a145b665",
   "execution_count": null
  },
  {
   "cell_type": "code",
   "outputs": [],
   "source": [
    "# Query the Model\n",
    "cs_model.load_index(\"test\")\n",
    "cs_model.query(\"we begin by determining the wold decomposition of the isometries @xmath31\")"
   ],
   "metadata": {
    "collapsed": false
   },
   "id": "72ae1477eea2152b",
   "execution_count": null
  },
  {
   "cell_type": "markdown",
   "source": [
    "### Semantic Chunk Model"
   ],
   "metadata": {
    "collapsed": false
   },
   "id": "f8316ca21d8c5571"
  },
  {
   "cell_type": "code",
   "outputs": [],
   "source": [
    "from models.semantic_chunk_model import SemanticChunkModel\n",
    "\n",
    "# Initialize model\n",
    "sc_model = SemanticChunkModel()"
   ],
   "metadata": {
    "collapsed": false,
    "ExecuteTime": {
     "end_time": "2024-03-13T01:23:09.109624100Z",
     "start_time": "2024-03-13T01:23:04.423672900Z"
    }
   },
   "id": "7a2ece7f706029ba",
   "execution_count": 1
  },
  {
   "cell_type": "code",
   "outputs": [],
   "source": [
    "# Generate Index\n",
    "sc_model.generate_index(\"data/practice_data/\")\n",
    "# Save Index\n",
    "sc_model.save_index(\"test\")"
   ],
   "metadata": {
    "collapsed": false,
    "ExecuteTime": {
     "end_time": "2024-03-13T01:25:13.969799500Z",
     "start_time": "2024-03-13T01:23:11.543673200Z"
    }
   },
   "id": "9668a897e1ac12b1",
   "execution_count": 2
  },
  {
   "cell_type": "code",
   "outputs": [
    {
     "name": "stderr",
     "output_type": "stream",
     "text": [
      "C:\\Users\\MaxHu\\CLASS DOCS\\NLP\\FINAL PROJECT\\comparative-indexing-analysis\\models\\helpers\\similarity_search.py:17: FutureWarning: ChainedAssignmentError: behaviour will change in pandas 3.0!\n",
      "You are setting values through chained assignment. Currently this works in certain cases, but when using Copy-on-Write (which will become the default behaviour in pandas 3.0) this will never work to update the original DataFrame or Series, because the intermediate object on which we are setting values will behave as a copy.\n",
      "A typical example is when you are setting values in a column of a DataFrame, like:\n",
      "\n",
      "df[\"col\"][row_indexer] = value\n",
      "\n",
      "Use `df.loc[row_indexer, \"col\"] = values` instead, to perform the assignment in a single step and ensure this keeps updating the original `df`.\n",
      "\n",
      "See the caveats in the documentation: https://pandas.pydata.org/pandas-docs/stable/user_guide/indexing.html#returning-a-view-versus-a-copy\n",
      "\n",
      "  chunks_df[\"similarity\"][i] = cosine_similarity(chunks_df[\"embedding\"][i], chunks_df[\"query_vec\"][i])\n",
      "C:\\Users\\MaxHu\\CLASS DOCS\\NLP\\FINAL PROJECT\\comparative-indexing-analysis\\models\\helpers\\similarity_search.py:17: SettingWithCopyWarning: \n",
      "A value is trying to be set on a copy of a slice from a DataFrame\n",
      "\n",
      "See the caveats in the documentation: https://pandas.pydata.org/pandas-docs/stable/user_guide/indexing.html#returning-a-view-versus-a-copy\n",
      "  chunks_df[\"similarity\"][i] = cosine_similarity(chunks_df[\"embedding\"][i], chunks_df[\"query_vec\"][i])\n",
      "C:\\Users\\MaxHu\\CLASS DOCS\\NLP\\FINAL PROJECT\\comparative-indexing-analysis\\models\\helpers\\similarity_search.py:17: FutureWarning: Setting an item of incompatible dtype is deprecated and will raise an error in a future version of pandas. Value '0.8235519642744454' has dtype incompatible with int64, please explicitly cast to a compatible dtype first.\n",
      "  chunks_df[\"similarity\"][i] = cosine_similarity(chunks_df[\"embedding\"][i], chunks_df[\"query_vec\"][i])\n"
     ]
    },
    {
     "data": {
      "text/plain": "6603"
     },
     "execution_count": 5,
     "metadata": {},
     "output_type": "execute_result"
    }
   ],
   "source": [
    "df = sc_model.query(\"What are the most famous wars?\")\n",
    "len(df[\"chunk_text\"][0])"
   ],
   "metadata": {
    "collapsed": false,
    "ExecuteTime": {
     "end_time": "2024-03-13T01:26:41.028343200Z",
     "start_time": "2024-03-13T01:26:40.444860100Z"
    }
   },
   "id": "e8adb0f4b2ee1bde",
   "execution_count": 5
  },
  {
   "cell_type": "code",
   "outputs": [],
   "source": [],
   "metadata": {
    "collapsed": false
   },
   "id": "66fbeba543e1ac81"
  }
 ],
 "metadata": {
  "kernelspec": {
   "name": "nlp-env",
   "language": "python",
   "display_name": "nlp-env"
  },
  "language_info": {
   "codemirror_mode": {
    "name": "ipython",
    "version": 2
   },
   "file_extension": ".py",
   "mimetype": "text/x-python",
   "name": "python",
   "nbconvert_exporter": "python",
   "pygments_lexer": "ipython2",
   "version": "2.7.6"
  }
 },
 "nbformat": 4,
 "nbformat_minor": 5
}

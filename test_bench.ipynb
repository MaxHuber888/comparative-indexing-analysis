{
 "cells": [
  {
   "cell_type": "markdown",
   "source": [
    "### Define Data Path"
   ],
   "metadata": {
    "collapsed": false
   },
   "id": "51f818ae127141dd"
  },
  {
   "cell_type": "code",
   "outputs": [],
   "source": [
    "doc_path = \"data/docs/\""
   ],
   "metadata": {
    "collapsed": false
   },
   "id": "1c35471b5a696db3",
   "execution_count": null
  },
  {
   "cell_type": "markdown",
   "source": [
    "### Chunk Model (LlamaIndex)"
   ],
   "metadata": {
    "collapsed": false
   },
   "id": "2c593916f9cd4c6b"
  },
  {
   "cell_type": "code",
   "outputs": [],
   "source": [
    "from models.chunk_model import ChunkModel\n",
    "\n",
    "# Initialize model\n",
    "ch_model = ChunkModel()"
   ],
   "metadata": {
    "collapsed": false
   },
   "id": "3e5f6902b7ed2e0",
   "execution_count": null
  },
  {
   "cell_type": "code",
   "outputs": [],
   "source": [
    "# Generate Index\n",
    "ch_model.generate_index(doc_path)\n",
    "# Save Index\n",
    "ch_model.save_index(\"test\")"
   ],
   "metadata": {
    "collapsed": false
   },
   "id": "1aa03fbf796bb8b5",
   "execution_count": null
  },
  {
   "cell_type": "code",
   "outputs": [],
   "source": [
    "# Query the Model\n",
    "print(ch_model.query(\"we begin by determining the wold decomposition of the isometries @xmath31\"))"
   ],
   "metadata": {
    "collapsed": false
   },
   "id": "67eaf856f873d66d",
   "execution_count": null
  },
  {
   "cell_type": "markdown",
   "source": [
    "### Net Fit Model (CUSTOM)"
   ],
   "metadata": {
    "collapsed": false
   },
   "id": "1cda5c0ea2fad914"
  },
  {
   "cell_type": "code",
   "outputs": [],
   "source": [
    "from models.net_fit_model import NetFitModel\n",
    "\n",
    "# Initialize model\n",
    "nf_model = NetFitModel()"
   ],
   "metadata": {
    "collapsed": true
   },
   "id": "initial_id",
   "execution_count": null
  },
  {
   "cell_type": "code",
   "outputs": [],
   "source": [
    "# Generate Index\n",
    "nf_model.generate_index(doc_path)\n",
    "# Save Index\n",
    "nf_model.save_index(\"test\")"
   ],
   "metadata": {
    "collapsed": false
   },
   "id": "954c7691bb01c470",
   "execution_count": null
  },
  {
   "cell_type": "code",
   "outputs": [],
   "source": [
    "# (OPTIONAL) Train the model more\n",
    "nf_model.train_model()\n",
    "nf_model.save_index(\"test\")"
   ],
   "metadata": {
    "collapsed": false
   },
   "id": "d9482a9dec072260",
   "execution_count": null
  },
  {
   "cell_type": "code",
   "outputs": [],
   "source": [
    "# Query the Model\n",
    "nf_model.load_index(\"test\")\n",
    "nf_model.query(\"we begin by determining the wold decomposition of the isometries @xmath31\")"
   ],
   "metadata": {
    "collapsed": false
   },
   "id": "1e15f0bace9988bd",
   "execution_count": null
  },
  {
   "cell_type": "markdown",
   "source": [
    "### Chunk Slide Model (CUSTOM)"
   ],
   "metadata": {
    "collapsed": false
   },
   "id": "f8de3181a2a38cf9"
  },
  {
   "cell_type": "code",
   "outputs": [],
   "source": [
    "from models.chunk_slide_model import ChunkSlideModel\n",
    "\n",
    "# Initialize model\n",
    "cs_model = ChunkSlideModel()"
   ],
   "metadata": {
    "collapsed": false,
    "ExecuteTime": {
     "end_time": "2024-02-23T20:23:12.398759100Z",
     "start_time": "2024-02-23T20:23:10.111112100Z"
    }
   },
   "id": "88ba77ba6aa4fcc1",
   "execution_count": 1
  },
  {
   "cell_type": "code",
   "outputs": [],
   "source": [
    "# Generate Index\n",
    "cs_model.generate_index(doc_path)\n",
    "# Save Index\n",
    "cs_model.save_index(\"test\")"
   ],
   "metadata": {
    "collapsed": false
   },
   "id": "8a6d1c14a145b665",
   "execution_count": null
  },
  {
   "cell_type": "code",
   "outputs": [
    {
     "name": "stderr",
     "output_type": "stream",
     "text": [
      "C:\\Users\\MaxHu\\Projects\\Coding\\sampled-text-indexing\\models\\helpers\\similarity_search.py:17: SettingWithCopyWarning: \n",
      "A value is trying to be set on a copy of a slice from a DataFrame\n",
      "\n",
      "See the caveats in the documentation: https://pandas.pydata.org/pandas-docs/stable/user_guide/indexing.html#returning-a-view-versus-a-copy\n",
      "  chunks_df[\"similarity\"][i] = cosine_similarity(chunks_df[\"embedding\"][i], chunks_df[\"query_vec\"][i])\n"
     ]
    },
    {
     "data": {
      "text/plain": "[{'chunk_text': 'set . however it is not complete , as it clearly misses the infinite - dimensional subspace @xmath122 . the fundamental decomposition of @xmath43 given in allows us to extract suitable components formed by toeplitz operators of scalar type , @xcite . in order to identify these components , we begin by determining the wold decomposition of the isometries @xmath31 , @xcite . see remark [ diri ] . [ multareshifts ] for all @xmath123 , @xmath124 is a shift of infinite multiplicity . define @xmath125\\nthen @xmath126 for @xmath127 , @xmath128 , and @xmath129 one - to - one and',\n  'original_similarity': 0.8717119949427705,\n  'slide': 13},\n {'chunk_text': 'of the alternatives to presented below relies crucially on work developed in section [ toep_s ] . from lemma [ multareshifts ] we compute explicitly the wold decomposition of the isometries @xmath31 : they turn out to be shifts of infinite multiplicity . hence we can extract from the expansion suitable components which are toeplitz operators of scalar type acting on appropriate hardy spaces . as the theory becomes quite technical for the case @xmath55 and all the estimates analogous to those reported below would involve a dependence\\non the parameter @xmath56 , we have chosen to restrict our attention with',\n  'original_similarity': 0.8610349340158984,\n  'slide': 11},\n {'chunk_text': 'metric space and a _ hypothesis space _ @xmath28 where @xmath29 is a set of functions @xmath30 each of which is also identified as a map @xmath31 from @xmath3 to @xmath5 . hence the functions from @xmath32 take the additive form @xmath33 . we mention , that there is strictly speaking a notational problem here , because in the previous formula each quantity @xmath34 is an element of the set @xmath35 which is a subset of the full input space @xmath36 , @xmath37\\n, whereas in the definition of sample @xmath8 each quantity @xmath38 is an element of the full input',\n  'original_similarity': 0.8422223369218873,\n  'slide': 16}]"
     },
     "execution_count": 2,
     "metadata": {},
     "output_type": "execute_result"
    }
   ],
   "source": [
    "# Query the Model\n",
    "cs_model.load_index(\"test\")\n",
    "cs_model.query(\"we begin by determining the wold decomposition of the isometries @xmath31\")"
   ],
   "metadata": {
    "collapsed": false,
    "ExecuteTime": {
     "end_time": "2024-02-23T20:23:15.236357600Z",
     "start_time": "2024-02-23T20:23:13.903730500Z"
    }
   },
   "id": "72ae1477eea2152b",
   "execution_count": 2
  },
  {
   "cell_type": "markdown",
   "source": [
    "### Semantic Chunk Model"
   ],
   "metadata": {
    "collapsed": false
   },
   "id": "f8316ca21d8c5571"
  },
  {
   "cell_type": "code",
   "outputs": [],
   "source": [],
   "metadata": {
    "collapsed": false
   },
   "id": "7a2ece7f706029ba",
   "execution_count": null
  },
  {
   "cell_type": "code",
   "outputs": [],
   "source": [],
   "metadata": {
    "collapsed": false
   },
   "id": "9668a897e1ac12b1"
  }
 ],
 "metadata": {
  "kernelspec": {
   "name": "gpt-env-3.10",
   "language": "python",
   "display_name": "gpt-env-3.10"
  },
  "language_info": {
   "codemirror_mode": {
    "name": "ipython",
    "version": 2
   },
   "file_extension": ".py",
   "mimetype": "text/x-python",
   "name": "python",
   "nbconvert_exporter": "python",
   "pygments_lexer": "ipython2",
   "version": "2.7.6"
  }
 },
 "nbformat": 4,
 "nbformat_minor": 5
}

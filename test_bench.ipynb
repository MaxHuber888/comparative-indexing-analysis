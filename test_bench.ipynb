{
 "cells": [
  {
   "cell_type": "markdown",
   "source": [
    "### ANALYZE GENERATION\n",
    "Metrics:\n",
    "- Time taken to generate index\n",
    "- Embedded token count"
   ],
   "metadata": {
    "collapsed": false
   },
   "id": "ed0c6e89a1f7b601"
  },
  {
   "cell_type": "code",
   "outputs": [],
   "source": [
    "from src.rule_based_model import RuleBasedModel\n",
    "from src.slide_model import SlideModel\n",
    "from src.semantic_model import SemanticModel\n",
    "from src.nner_model import NNERModel\n",
    "\n",
    "# INITIALIZE MODEL\n",
    "#model = RuleBasedModel()\n",
    "#model = SemanticModel()\n",
    "#model = SlideModel()\n",
    "model = NNERModel()\n",
    "\n",
    "#model_name = \"rule\"\n",
    "#model_name = \"semantic\"\n",
    "#model_name = \"slide\"\n",
    "model_name = \"nner\""
   ],
   "metadata": {
    "collapsed": false
   },
   "id": "1def025a9c45b5c5",
   "execution_count": null
  },
  {
   "cell_type": "code",
   "outputs": [],
   "source": [
    "from src.model_analysis import analyze_generation\n",
    "import pandas as pd\n",
    "\n",
    "DOC_PATH = \"data/docs/Wikipedia/\"\n",
    "\n",
    "# FOR ALL MODELS...\n",
    "print(f\"Testing {model_name}\")\n",
    "results = analyze_generation(\n",
    "    model=model,\n",
    "    doc_path=DOC_PATH,\n",
    "    model_name=model_name\n",
    ")\n",
    "\n",
    "# SAVE RESULTS\n",
    "results_df = pd.DataFrame(results)\n",
    "results_df.to_csv(\"results/\"+model_name+\"_generation_results.csv\", index=False)\n",
    "results_df"
   ],
   "metadata": {
    "collapsed": true
   },
   "id": "initial_id",
   "execution_count": null
  },
  {
   "cell_type": "markdown",
   "source": [
    "### ANALYZE RETRIEVAL\n",
    "Metrics:\n",
    "- Time taken to retrieve context (per query, avg over all queries, etc.)\n",
    "- Quality of Retrieved Context (scored per query, avg over all queries, etc.)"
   ],
   "metadata": {
    "collapsed": false
   },
   "id": "2deb570c2e55d155"
  },
  {
   "cell_type": "code",
   "outputs": [],
   "source": [
    "from src.rule_based_model import RuleBasedModel\n",
    "from src.slide_model import SlideModel\n",
    "from src.semantic_model import SemanticModel\n",
    "from src.nner_model import NNERModel\n",
    "\n",
    "# INITIALIZE MODEL\n",
    "#model = RuleBasedModel()\n",
    "#model = SemanticModel()\n",
    "#model = SlideModel()\n",
    "model = NNERModel()\n",
    "\n",
    "#model_name = \"rule\"\n",
    "#model_name = \"semantic\"\n",
    "#model_name = \"slide\"\n",
    "model_name = \"nner\""
   ],
   "metadata": {
    "collapsed": false,
    "ExecuteTime": {
     "end_time": "2024-04-15T15:10:18.005392400Z",
     "start_time": "2024-04-15T15:10:13.929589700Z"
    }
   },
   "id": "530bf633bb5e75a0",
   "execution_count": 1
  },
  {
   "cell_type": "code",
   "outputs": [
    {
     "name": "stdout",
     "output_type": "stream",
     "text": [
      "Testing nner\n",
      "Model Output: 0.0962972342967987\n",
      "Predicted Location: 8358\n",
      "Model Output: 0.08347170054912567\n",
      "Predicted Location: 7245\n",
      "Model Output: 0.04662247747182846\n",
      "Predicted Location: 4047\n",
      "Model Output: 0.2554393410682678\n",
      "Predicted Location: 22171\n",
      "Model Output: 0.03373712673783302\n",
      "Predicted Location: 2928\n",
      "Model Output: 0.10984930396080017\n",
      "Predicted Location: 9534\n",
      "Model Output: 0.02521708235144615\n",
      "Predicted Location: 2189\n",
      "Model Output: 0.053985077887773514\n",
      "Predicted Location: 4686\n",
      "Model Output: 0.030847670510411263\n",
      "Predicted Location: 2677\n",
      "Model Output: 0.06172872707247734\n",
      "Predicted Location: 5358\n",
      "Model Output: 0.42061594128608704\n",
      "Predicted Location: 36507\n",
      "Model Output: 0.1892017275094986\n",
      "Predicted Location: 16422\n",
      "Model Output: 0.1275513619184494\n",
      "Predicted Location: 11071\n",
      "Model Output: 0.15507470071315765\n",
      "Predicted Location: 13460\n",
      "Model Output: 0.18617695569992065\n",
      "Predicted Location: 16159\n",
      "Model Output: 0.046706780791282654\n",
      "Predicted Location: 4054\n",
      "Model Output: 0.15298400819301605\n",
      "Predicted Location: 13278\n",
      "Model Output: 0.04262549802660942\n",
      "Predicted Location: 3700\n",
      "Model Output: 0.23402760922908783\n",
      "Predicted Location: 20312\n",
      "Model Output: 0.12682002782821655\n",
      "Predicted Location: 11007\n",
      "Model Output: 0.37936538457870483\n",
      "Predicted Location: 32927\n",
      "Model Output: 0.3969764709472656\n",
      "Predicted Location: 34456\n",
      "Model Output: 0.2520294785499573\n",
      "Predicted Location: 21875\n",
      "Model Output: 0.39016419649124146\n",
      "Predicted Location: 33864\n",
      "Model Output: 0.3260645270347595\n",
      "Predicted Location: 28301\n",
      "Model Output: 0.5927785038948059\n",
      "Predicted Location: 51450\n",
      "Model Output: 0.32135897874832153\n",
      "Predicted Location: 27892\n",
      "Model Output: 0.0714874416589737\n",
      "Predicted Location: 6205\n",
      "Model Output: 0.43111658096313477\n",
      "Predicted Location: 37419\n",
      "Model Output: 0.4938639998435974\n",
      "Predicted Location: 42865\n",
      "Model Output: 0.33874353766441345\n",
      "Predicted Location: 29401\n",
      "Model Output: 0.381556898355484\n",
      "Predicted Location: 33117\n",
      "Model Output: 0.38235238194465637\n",
      "Predicted Location: 33186\n",
      "Model Output: 0.21567361056804657\n",
      "Predicted Location: 18719\n",
      "Model Output: 0.3898370862007141\n",
      "Predicted Location: 33836\n",
      "Model Output: 0.3932899832725525\n",
      "Predicted Location: 34136\n",
      "Model Output: 0.4931211471557617\n",
      "Predicted Location: 42800\n",
      "Model Output: 0.3417225480079651\n",
      "Predicted Location: 29660\n",
      "Model Output: 0.5690485239028931\n",
      "Predicted Location: 49391\n",
      "Model Output: 0.6691225171089172\n",
      "Predicted Location: 58076\n",
      "Model Output: 0.6184103488922119\n",
      "Predicted Location: 53675\n",
      "Model Output: 0.24121509492397308\n",
      "Predicted Location: 20936\n",
      "Model Output: 0.3046692907810211\n",
      "Predicted Location: 26444\n",
      "Model Output: 0.4224138557910919\n",
      "Predicted Location: 36663\n",
      "Model Output: 0.3122931122779846\n",
      "Predicted Location: 27105\n",
      "Model Output: 0.3026295602321625\n",
      "Predicted Location: 26267\n",
      "Model Output: 0.31240567564964294\n",
      "Predicted Location: 27115\n",
      "Model Output: 0.49562394618988037\n",
      "Predicted Location: 43018\n",
      "Model Output: 0.13956256210803986\n",
      "Predicted Location: 12113\n",
      "Model Output: 0.46174356341362\n",
      "Predicted Location: 40077\n",
      "Model Output: 0.6268811225891113\n",
      "Predicted Location: 54410\n",
      "Model Output: 0.7546166181564331\n",
      "Predicted Location: 65497\n",
      "Model Output: 0.7470923662185669\n",
      "Predicted Location: 64844\n",
      "Model Output: 0.7230427265167236\n",
      "Predicted Location: 62756\n",
      "Model Output: 0.7066673040390015\n",
      "Predicted Location: 61335\n",
      "Model Output: 0.6002936363220215\n",
      "Predicted Location: 52102\n",
      "Model Output: 0.3825642168521881\n",
      "Predicted Location: 33205\n",
      "Model Output: 0.43774983286857605\n",
      "Predicted Location: 37994\n",
      "Model Output: 0.3863602876663208\n",
      "Predicted Location: 33534\n",
      "Model Output: 0.4889903664588928\n",
      "Predicted Location: 42442\n",
      "Model Output: 0.6421470046043396\n",
      "Predicted Location: 55735\n",
      "Model Output: 0.8092976212501526\n",
      "Predicted Location: 70243\n",
      "Model Output: 0.5259495973587036\n",
      "Predicted Location: 45650\n",
      "Model Output: 0.8289817571640015\n",
      "Predicted Location: 71951\n",
      "Model Output: 0.30420708656311035\n",
      "Predicted Location: 26404\n",
      "Model Output: 0.6942631602287292\n",
      "Predicted Location: 60259\n",
      "Model Output: 0.6389123797416687\n",
      "Predicted Location: 55454\n",
      "Model Output: 0.8420187830924988\n",
      "Predicted Location: 73083\n",
      "Model Output: 0.37424835562705994\n",
      "Predicted Location: 32483\n",
      "Model Output: 0.494814395904541\n",
      "Predicted Location: 42947\n",
      "Model Output: 0.6799587607383728\n",
      "Predicted Location: 59017\n",
      "Model Output: 0.5474998950958252\n",
      "Predicted Location: 47520\n",
      "Model Output: 0.5908573269844055\n",
      "Predicted Location: 51283\n",
      "Model Output: 0.5147598385810852\n",
      "Predicted Location: 44679\n",
      "Model Output: 0.5609506964683533\n",
      "Predicted Location: 48688\n",
      "Model Output: 0.25447332859039307\n",
      "Predicted Location: 22087\n",
      "Model Output: 0.56526780128479\n",
      "Predicted Location: 49062\n",
      "Model Output: 0.7268693447113037\n",
      "Predicted Location: 63089\n",
      "Model Output: 0.6272793412208557\n",
      "Predicted Location: 54445\n",
      "Model Output: 0.5744273662567139\n",
      "Predicted Location: 49857\n",
      "Model Output: 0.2938942313194275\n",
      "Predicted Location: 25509\n",
      "Model Output: 0.3390164375305176\n",
      "Predicted Location: 29425\n",
      "Model Output: 0.14371483027935028\n",
      "Predicted Location: 12474\n",
      "Model Output: 0.35142937302589417\n",
      "Predicted Location: 30502\n",
      "Model Output: 0.366477906703949\n",
      "Predicted Location: 31808\n",
      "Model Output: 0.7956441640853882\n",
      "Predicted Location: 69058\n",
      "Model Output: 0.27802208065986633\n",
      "Predicted Location: 24131\n",
      "Model Output: 0.6968898177146912\n",
      "Predicted Location: 60487\n",
      "Model Output: 0.5435397624969482\n",
      "Predicted Location: 47177\n",
      "Model Output: 0.643555760383606\n",
      "Predicted Location: 55857\n",
      "Model Output: 0.8290945887565613\n",
      "Predicted Location: 71961\n",
      "Model Output: 0.5933464169502258\n",
      "Predicted Location: 51500\n",
      "Model Output: 0.6259377002716064\n",
      "Predicted Location: 54328\n",
      "Model Output: 0.635765016078949\n",
      "Predicted Location: 55181\n",
      "Model Output: 0.7805408835411072\n",
      "Predicted Location: 67747\n",
      "Model Output: 0.6826605796813965\n",
      "Predicted Location: 59252\n",
      "Model Output: 0.5519332885742188\n",
      "Predicted Location: 47905\n",
      "Model Output: 0.44723138213157654\n",
      "Predicted Location: 38817\n",
      "Model Output: 0.910297691822052\n",
      "Predicted Location: 79009\n",
      "Model Output: 0.7414440512657166\n",
      "Predicted Location: 64354\n",
      "Model Output: 0.940399706363678\n",
      "Predicted Location: 81622\n",
      "Model Output: 0.7379148602485657\n",
      "Predicted Location: 64047\n",
      "Model Output: 0.7276884317398071\n",
      "Predicted Location: 63160\n",
      "Model Output: 0.8300739526748657\n",
      "Predicted Location: 72046\n",
      "Model Output: 0.37719258666038513\n",
      "Predicted Location: 32738\n",
      "Model Output: 0.9502810835838318\n",
      "Predicted Location: 82480\n",
      "Model Output: 0.8414671421051025\n",
      "Predicted Location: 73035\n",
      "Model Output: 0.7310531139373779\n",
      "Predicted Location: 63452\n",
      "Model Output: 0.86382657289505\n",
      "Predicted Location: 74976\n",
      "Model Output: 0.9650063514709473\n",
      "Predicted Location: 83758\n"
     ]
    },
    {
     "data": {
      "text/plain": "     query_time                                              query  \\\n0      0.520981                         What is an AI accelerator?   \n1      0.445098              Where are AI accelerators often used?   \n2      1.138172   How have GPUs been utilized for AI acceleration?   \n3      0.609225  What has been the progress of AI accelerator t...   \n4      0.586924  What is the difference between CPUs and AI acc...   \n..          ...                                                ...   \n105    0.392378      What is the Unified Modeling Language (UML)?    \n106    0.379270  What was the motivation behind the creation of...   \n107    0.430935               When and by whom was UML developed?    \n108    0.404046  Who manages UML and when was it adopted as a s...   \n109    0.429398  What are the main groups that UML diagrams can...   \n\n                                                answer  \\\n0    An AI accelerator, also referred to as deep le...   \n1    AI accelerators are used in various devices, i...   \n2    Graphics processing units or GPUs, that are sp...   \n3    In the 1990s, attempts were made to create hig...   \n4    While CPUs are used for running AI workloads a...   \n..                                                 ...   \n105  The Unified Modeling Language (UML) is a gener...   \n106  The creation of UML was primarily motivated by...   \n107  UML was developed at Rational Software in 1994...   \n108  UML was adopted as a standard by the Object Ma...   \n109  UML diagrams can be largely divided into three...   \n\n                                            response_0  \n0    hyperparameter called the receptive field of t...  \n1    many layers can be quickly trained on GPU by s...  \n2    of large language models developed by Anthropi...  \n3    data. They are an efficient way of performing ...  \n4    BERT's state-of-the-art performance on these n...  \n..                                                 ...  \n105  simulate artificial synapses. Examples include...  \n106  the maximum number of training generations has...  \n107  many of them together in a network can perform...  \n108  (activation 1.0) through strong positive bias ...  \n109  that require small additional processing exist...  \n\n[110 rows x 4 columns]",
      "text/html": "<div>\n<style scoped>\n    .dataframe tbody tr th:only-of-type {\n        vertical-align: middle;\n    }\n\n    .dataframe tbody tr th {\n        vertical-align: top;\n    }\n\n    .dataframe thead th {\n        text-align: right;\n    }\n</style>\n<table border=\"1\" class=\"dataframe\">\n  <thead>\n    <tr style=\"text-align: right;\">\n      <th></th>\n      <th>query_time</th>\n      <th>query</th>\n      <th>answer</th>\n      <th>response_0</th>\n    </tr>\n  </thead>\n  <tbody>\n    <tr>\n      <th>0</th>\n      <td>0.520981</td>\n      <td>What is an AI accelerator?</td>\n      <td>An AI accelerator, also referred to as deep le...</td>\n      <td>hyperparameter called the receptive field of t...</td>\n    </tr>\n    <tr>\n      <th>1</th>\n      <td>0.445098</td>\n      <td>Where are AI accelerators often used?</td>\n      <td>AI accelerators are used in various devices, i...</td>\n      <td>many layers can be quickly trained on GPU by s...</td>\n    </tr>\n    <tr>\n      <th>2</th>\n      <td>1.138172</td>\n      <td>How have GPUs been utilized for AI acceleration?</td>\n      <td>Graphics processing units or GPUs, that are sp...</td>\n      <td>of large language models developed by Anthropi...</td>\n    </tr>\n    <tr>\n      <th>3</th>\n      <td>0.609225</td>\n      <td>What has been the progress of AI accelerator t...</td>\n      <td>In the 1990s, attempts were made to create hig...</td>\n      <td>data. They are an efficient way of performing ...</td>\n    </tr>\n    <tr>\n      <th>4</th>\n      <td>0.586924</td>\n      <td>What is the difference between CPUs and AI acc...</td>\n      <td>While CPUs are used for running AI workloads a...</td>\n      <td>BERT's state-of-the-art performance on these n...</td>\n    </tr>\n    <tr>\n      <th>...</th>\n      <td>...</td>\n      <td>...</td>\n      <td>...</td>\n      <td>...</td>\n    </tr>\n    <tr>\n      <th>105</th>\n      <td>0.392378</td>\n      <td>What is the Unified Modeling Language (UML)?</td>\n      <td>The Unified Modeling Language (UML) is a gener...</td>\n      <td>simulate artificial synapses. Examples include...</td>\n    </tr>\n    <tr>\n      <th>106</th>\n      <td>0.379270</td>\n      <td>What was the motivation behind the creation of...</td>\n      <td>The creation of UML was primarily motivated by...</td>\n      <td>the maximum number of training generations has...</td>\n    </tr>\n    <tr>\n      <th>107</th>\n      <td>0.430935</td>\n      <td>When and by whom was UML developed?</td>\n      <td>UML was developed at Rational Software in 1994...</td>\n      <td>many of them together in a network can perform...</td>\n    </tr>\n    <tr>\n      <th>108</th>\n      <td>0.404046</td>\n      <td>Who manages UML and when was it adopted as a s...</td>\n      <td>UML was adopted as a standard by the Object Ma...</td>\n      <td>(activation 1.0) through strong positive bias ...</td>\n    </tr>\n    <tr>\n      <th>109</th>\n      <td>0.429398</td>\n      <td>What are the main groups that UML diagrams can...</td>\n      <td>UML diagrams can be largely divided into three...</td>\n      <td>that require small additional processing exist...</td>\n    </tr>\n  </tbody>\n</table>\n<p>110 rows × 4 columns</p>\n</div>"
     },
     "execution_count": 2,
     "metadata": {},
     "output_type": "execute_result"
    }
   ],
   "source": [
    "from src.model_analysis import analyze_retrieval\n",
    "import pandas as pd\n",
    "\n",
    "# LOAD INDEX FROM FILE\n",
    "model.load_index(model_name)\n",
    "\n",
    "QUERY_PATH = \"data/Wikipedia_queries.csv\"\n",
    "\n",
    "# FOR ALL MODELS...\n",
    "print(f\"Testing {model_name}\")\n",
    "results = analyze_retrieval(\n",
    "    model=model,\n",
    "    model_name=model_name,\n",
    "    queries_path=QUERY_PATH\n",
    ")\n",
    "\n",
    "# SAVE RESULTS\n",
    "results_df = pd.DataFrame(results)\n",
    "results_df.to_csv(\"results/\"+model_name+\"_retrieval_results.csv\", index=False)\n",
    "results_df"
   ],
   "metadata": {
    "collapsed": false,
    "ExecuteTime": {
     "end_time": "2024-04-15T15:11:19.165034200Z",
     "start_time": "2024-04-15T15:10:25.811106400Z"
    }
   },
   "id": "240d1b8239bbe9bf",
   "execution_count": 2
  },
  {
   "cell_type": "code",
   "outputs": [
    {
     "name": "stdout",
     "output_type": "stream",
     "text": [
      "0    3610.46143\n",
      "Name: generation_time, dtype: float64\n",
      "0    60427\n",
      "Name: emb_token_count, dtype: int64\n"
     ]
    }
   ],
   "source": [
    "import numpy as np\n",
    "import pandas as pd\n",
    "\n",
    "#model_name = \"rule\"\n",
    "#model_name = \"semantic\"\n",
    "#model_name = \"slide\"\n",
    "model_name = \"nner\"\n",
    "\n",
    "results_df = pd.read_csv(\"results/\"+model_name+\"_generation_results.csv\")\n",
    "print(results_df[\"generation_time\"])\n",
    "print(results_df[\"emb_token_count\"])"
   ],
   "metadata": {
    "collapsed": false,
    "ExecuteTime": {
     "end_time": "2024-04-15T16:14:28.830040300Z",
     "start_time": "2024-04-15T16:14:28.784399Z"
    }
   },
   "id": "47996405b5393e8c",
   "execution_count": 10
  },
  {
   "cell_type": "code",
   "outputs": [],
   "source": [
    "# AVG QUERY TIMES\n",
    "# rule - 0.17476807363643523\n",
    "# semantic - 0.6432608154536203\n",
    "# slide - 0.4724323227273999\n",
    "# nner - 0.4823404518167742\n",
    "\n",
    "# TOKENS EMBEDDED\n",
    "# rule - 155331\n",
    "# semantic - 124026\n",
    "# slide - 122817\n",
    "# nner - 60427\n",
    "\n",
    "# TIME TO GENERATE\n",
    "# rule - 5.029715\n",
    "# semantic - 3347.915188\n",
    "# slide - 19.734072\n",
    "# nner - 3610.46143\n",
    "\n",
    "# QUALITY RESPONSE COUNT\n",
    "# rule -\n",
    "# semantic - \n",
    "# slide - \n",
    "# nner - "
   ],
   "metadata": {
    "collapsed": false
   },
   "id": "fa72bd65aa2d74b8"
  },
  {
   "cell_type": "code",
   "outputs": [
    {
     "name": "stderr",
     "output_type": "stream",
     "text": [
      "Responses: 110it [02:44,  1.49s/it]\n"
     ]
    },
    {
     "data": {
      "text/plain": "                                                     0\n0    (D) The Retrieved Context contains none of the...\n1    (C) The Retrieved Context contains almost none...\n2    (D) The Retrieved Context contains none of the...\n3    (D) The Retrieved Context contains none of the...\n4    (D) The Retrieved Context contains none of the...\n..                                                 ...\n105  (D) The Retrieved Context contains none of the...\n106  (D) The Retrieved Context contains none of the...\n107  (D) The Retrieved Context contains none of the...\n108  (D) The Retrieved Context contains none of the...\n109  (D) The Retrieved Context contains none of the...\n\n[110 rows x 1 columns]",
      "text/html": "<div>\n<style scoped>\n    .dataframe tbody tr th:only-of-type {\n        vertical-align: middle;\n    }\n\n    .dataframe tbody tr th {\n        vertical-align: top;\n    }\n\n    .dataframe thead th {\n        text-align: right;\n    }\n</style>\n<table border=\"1\" class=\"dataframe\">\n  <thead>\n    <tr style=\"text-align: right;\">\n      <th></th>\n      <th>0</th>\n    </tr>\n  </thead>\n  <tbody>\n    <tr>\n      <th>0</th>\n      <td>(D) The Retrieved Context contains none of the...</td>\n    </tr>\n    <tr>\n      <th>1</th>\n      <td>(C) The Retrieved Context contains almost none...</td>\n    </tr>\n    <tr>\n      <th>2</th>\n      <td>(D) The Retrieved Context contains none of the...</td>\n    </tr>\n    <tr>\n      <th>3</th>\n      <td>(D) The Retrieved Context contains none of the...</td>\n    </tr>\n    <tr>\n      <th>4</th>\n      <td>(D) The Retrieved Context contains none of the...</td>\n    </tr>\n    <tr>\n      <th>...</th>\n      <td>...</td>\n    </tr>\n    <tr>\n      <th>105</th>\n      <td>(D) The Retrieved Context contains none of the...</td>\n    </tr>\n    <tr>\n      <th>106</th>\n      <td>(D) The Retrieved Context contains none of the...</td>\n    </tr>\n    <tr>\n      <th>107</th>\n      <td>(D) The Retrieved Context contains none of the...</td>\n    </tr>\n    <tr>\n      <th>108</th>\n      <td>(D) The Retrieved Context contains none of the...</td>\n    </tr>\n    <tr>\n      <th>109</th>\n      <td>(D) The Retrieved Context contains none of the...</td>\n    </tr>\n  </tbody>\n</table>\n<p>110 rows × 1 columns</p>\n</div>"
     },
     "execution_count": 2,
     "metadata": {},
     "output_type": "execute_result"
    }
   ],
   "source": [
    "from src.model_analysis import response_quality_analysis\n",
    "import pandas as pd\n",
    "\n",
    "#model_name = \"rule\"\n",
    "#model_name = \"semantic\"\n",
    "#model_name = \"slide\"\n",
    "model_name = \"nner\"\n",
    "\n",
    "results = response_quality_analysis(\"results/\"+model_name+\"_retrieval_results.csv\")\n",
    "\n",
    "# SAVE RESULTS\n",
    "results_df = pd.DataFrame(results)\n",
    "results_df.to_csv(\"results/\"+model_name+\"_resp_quality_results.csv\", index=False)\n",
    "results_df"
   ],
   "metadata": {
    "collapsed": false,
    "ExecuteTime": {
     "end_time": "2024-04-15T18:28:33.730384400Z",
     "start_time": "2024-04-15T18:25:49.309919700Z"
    }
   },
   "id": "41d6c154c8ad2d3d",
   "execution_count": 2
  },
  {
   "cell_type": "code",
   "outputs": [
    {
     "name": "stderr",
     "output_type": "stream",
     "text": [
      "C:\\Users\\MaxHu\\AppData\\Local\\Temp\\ipykernel_13972\\1929051152.py:20: FutureWarning: Series.__getitem__ treating keys as positions is deprecated. In a future version, integer keys will always be treated as labels (consistent with DataFrame behavior). To access a value by position, use `ser.iloc[pos]`\n",
      "  if row[0].startswith(\"(A)\"):\n",
      "C:\\Users\\MaxHu\\AppData\\Local\\Temp\\ipykernel_13972\\1929051152.py:22: FutureWarning: Series.__getitem__ treating keys as positions is deprecated. In a future version, integer keys will always be treated as labels (consistent with DataFrame behavior). To access a value by position, use `ser.iloc[pos]`\n",
      "  if row[0].startswith(\"(B)\"):\n",
      "C:\\Users\\MaxHu\\AppData\\Local\\Temp\\ipykernel_13972\\1929051152.py:24: FutureWarning: Series.__getitem__ treating keys as positions is deprecated. In a future version, integer keys will always be treated as labels (consistent with DataFrame behavior). To access a value by position, use `ser.iloc[pos]`\n",
      "  if row[0].startswith(\"(C)\"):\n",
      "C:\\Users\\MaxHu\\AppData\\Local\\Temp\\ipykernel_13972\\1929051152.py:26: FutureWarning: Series.__getitem__ treating keys as positions is deprecated. In a future version, integer keys will always be treated as labels (consistent with DataFrame behavior). To access a value by position, use `ser.iloc[pos]`\n",
      "  if row[0].startswith(\"(D)\"):\n",
      "C:\\Users\\MaxHu\\AppData\\Local\\Temp\\ipykernel_13972\\1929051152.py:28: FutureWarning: Series.__getitem__ treating keys as positions is deprecated. In a future version, integer keys will always be treated as labels (consistent with DataFrame behavior). To access a value by position, use `ser.iloc[pos]`\n",
      "  if row[0].startswith(\"(E)\"):\n"
     ]
    },
    {
     "data": {
      "text/plain": "{'A': 4, 'B': 3, 'C': 8, 'D': 94, 'E': 1, 'TOTAL': 110}"
     },
     "execution_count": 4,
     "metadata": {},
     "output_type": "execute_result"
    }
   ],
   "source": [
    "import pandas as pd\n",
    "\n",
    "#model_name = \"rule\"\n",
    "#model_name = \"semantic\"\n",
    "#model_name = \"slide\"\n",
    "model_name = \"nner\"\n",
    "\n",
    "results_df = pd.read_csv(\"results/\"+model_name+\"_resp_quality_results.csv\")\n",
    "\n",
    "class_counts = {\n",
    "    \"A\": 0, \n",
    "    \"B\": 0,\n",
    "    \"C\": 0,\n",
    "    \"D\": 0,\n",
    "    \"E\": 0,\n",
    "    \"TOTAL\": 0\n",
    "}\n",
    "\n",
    "for i, row in results_df.iterrows():\n",
    "    if row[0].startswith(\"(A)\"):\n",
    "        class_counts[\"A\"] += 1\n",
    "    if row[0].startswith(\"(B)\"):\n",
    "        class_counts[\"B\"] += 1\n",
    "    if row[0].startswith(\"(C)\"):\n",
    "        class_counts[\"C\"] += 1\n",
    "    if row[0].startswith(\"(D)\"):\n",
    "        class_counts[\"D\"] += 1\n",
    "    if row[0].startswith(\"(E)\"):\n",
    "        class_counts[\"E\"] += 1\n",
    "    class_counts[\"TOTAL\"] += 1\n",
    "\n",
    "class_counts"
   ],
   "metadata": {
    "collapsed": false,
    "ExecuteTime": {
     "end_time": "2024-04-15T19:15:18.047716200Z",
     "start_time": "2024-04-15T19:15:17.992911100Z"
    }
   },
   "id": "d181e8d9c154a26c",
   "execution_count": 4
  },
  {
   "cell_type": "code",
   "outputs": [],
   "source": [],
   "metadata": {
    "collapsed": false
   },
   "id": "f64b612107e00f26"
  }
 ],
 "metadata": {
  "kernelspec": {
   "name": "nlp-env",
   "language": "python",
   "display_name": "nlp-env"
  },
  "language_info": {
   "codemirror_mode": {
    "name": "ipython",
    "version": 2
   },
   "file_extension": ".py",
   "mimetype": "text/x-python",
   "name": "python",
   "nbconvert_exporter": "python",
   "pygments_lexer": "ipython2",
   "version": "2.7.6"
  }
 },
 "nbformat": 4,
 "nbformat_minor": 5
}
